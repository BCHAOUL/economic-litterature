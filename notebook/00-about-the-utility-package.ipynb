{
 "cells": [
  {
   "cell_type": "markdown",
   "metadata": {},
   "source": [
    "# Why I write this\n",
    "For the purpose of reusability of the code I will use in this project I've decided to write utility functions that I will use in the other projects.  \n",
    "These functions serve specific goals related to scraping the texts, processing them, cleaning them.  \n",
    "I know that it may be difficult to read understand the code someone else wrote without giving explicite documentation, so I choose to write a little documentation here to explain how I came up with these functions and how you can extend them if you wish. \n",
    "\n",
    "The `utilityfuncs` contains three Python files: **__init__.py**, **econbooks.py**, **utilityFunctions.py**.\n",
    "The **__init__.py** file is a special Python file that tells the Python interpreter to trat the folder as a package.  \n",
    "The **econbooks.py** file contains Python classes I write to represent each of the texts I will use to scrape the texts on various websites and process them.  \n",
    "The **utilityFunctions.py** contains functions to process the text and clean them. "
   ]
  },
  {
   "cell_type": "code",
   "execution_count": null,
   "metadata": {},
   "outputs": [],
   "source": []
  }
 ],
 "metadata": {
  "kernelspec": {
   "display_name": "Python 3",
   "language": "python",
   "name": "python3"
  },
  "language_info": {
   "codemirror_mode": {
    "name": "ipython",
    "version": 3
   },
   "file_extension": ".py",
   "mimetype": "text/x-python",
   "name": "python",
   "nbconvert_exporter": "python",
   "pygments_lexer": "ipython3",
   "version": "3.6.9"
  }
 },
 "nbformat": 4,
 "nbformat_minor": 4
}
