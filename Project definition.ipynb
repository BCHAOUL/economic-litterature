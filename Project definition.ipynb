{
 "cells": [
  {
   "cell_type": "markdown",
   "metadata": {},
   "source": [
    "I started this project because I think it might be interesting to explore early economics writings. The idea is to understand the logic that was dominant in early economic writings. On of the goals of this project is to compare the ideas of the founders of modern economics as a discipline. \n",
    "\n",
    "What is exciting for me is to use Python, webscraping and NLP techniques to properly conduct a project. \n",
    "\n",
    "Here's a list of what I would like to touch in the project :\n",
    "- Making graphics (e.g. wordcloud)\n",
    "- Using deep learning NLP techniques\n",
    "- Compare early writers to contemporeanous writers"
   ]
  },
  {
   "cell_type": "code",
   "execution_count": 2,
   "metadata": {},
   "outputs": [],
   "source": [
    "# Loading the packages\n",
    "import requests\n",
    "from bs4 import BeautifulSoup"
   ]
  },
  {
   "cell_type": "markdown",
   "metadata": {},
   "source": [
    "# Querying the texts\n",
    "\n",
    "All the texts I am going to use come from the [Project Gutenberg website](https://www.gutenberg.org/wiki/Main_Page). Project Gutenberg was founded by Michael Hart in 1971 with the goal of providing free electronic books and ebooks. It contains over 60,000 ebooks that are available in many format including plain text, HTML or ebook. \n",
    "\n",
    "For this project, I am interested in analysing early economic writings. For that purpose I am going to query the following books : \n",
    "- [An Inquiry into the Nature and Causes of the Wealth of Nations by Adam Smith](https://www.gutenberg.org/ebooks/3300)\n",
    "- [On The Principles of Political Economy, and Taxation by David Ricardo](https://www.gutenberg.org/ebooks/33310)\n",
    "- [The Condition of the Working-Class in England in 1844](https://www.gutenberg.org/ebooks/17306)\n",
    "- [Principles of Political Economy by John Stuart Mill](https://www.gutenberg.org/ebooks/30107)\n",
    "- [The General Theory of Employment, Interest, and Money](http://gutenberg.net.au/ebooks03/0300071h/printall.html), Taken from Gutenberg Australia\n",
    "\n",
    "The following books weren't available on the Project Gutenberg site,   \n",
    "so I found them on the Online Library of Liberty website :\n",
    "- [Alfred Marshall, Principles of Economics (8th ed.) [1890]](https://oll.libertyfund.org/titles/marshall-principles-of-economics-8th-ed)\n",
    "- [Karl Marx Capital A Critique of Political Economy Volume I Book One: The Process of Production of Capital](https://oll.libertyfund.org/titles/marx-capital-a-critique-of-political-economy-volume-i-the-process-of-capitalist-production)\n",
    "- [Ludwig von Mises, Human Action: A Treatise on Economics, vol. 1 (LF ed.) [1996]] (https://oll.libertyfund.org/titles/mises-human-action-a-treatise-on-economics-vol-1-lf-ed)"
   ]
  },
  {
   "cell_type": "markdown",
   "metadata": {},
   "source": [
    "Thankfully all these books are hosted online, so everyone can can read them for free. Also there are in HTML format, meaning that we can extract the text inside HTML tags and CSS. For each book, I am going to create a Python class to represent how we can use them later in the project."
   ]
  },
  {
   "cell_type": "code",
   "execution_count": 3,
   "metadata": {},
   "outputs": [],
   "source": [
    "class InquiryNatureCauseWealth:\n",
    "    def __init__(self):\n",
    "        self.title = \"An Inquiry into the Nature and Causes of the Wealth of Nations\"\n",
    "        self.author = \"Adam Smith\"\n",
    "        self.year = 1776\n",
    "    def get_text(self, url = \"https://www.gutenberg.org/files/3300/3300-h/3300-h.htm\"):\n",
    "        get_url = requests.get(url).text\n",
    "        soup = BeautifulSoup(get_url, \"html.parser\")\n",
    "        raw_text = [paragraph.text for paragraph in soup.find_all(\"p\")]\n",
    "        return raw_text"
   ]
  },
  {
   "cell_type": "code",
   "execution_count": 4,
   "metadata": {},
   "outputs": [
    {
     "name": "stdout",
     "output_type": "stream",
     "text": [
      "['\\r\\n      According, therefore, as this produce, or what is purchased with it, bears\\r\\n      a greater or smaller proportion to the number of those who are to consume\\r\\n      it, the nation will be better or worse supplied with all the necessaries\\r\\n      and conveniencies for which it has occasion.\\r\\n    ', '\\r\\n      But this proportion must in every nation be regulated by two different\\r\\n      circumstances: first, by the skill, dexterity, and judgment with which its\\r\\n      labour is generally applied; and, secondly, by the proportion between the\\r\\n      number of those who are employed in useful labour, and that of those who\\r\\n      are not so employed. Whatever be the soil, climate, or extent of territory\\r\\n      of any particular nation, the abundance or scantiness of its annual supply\\r\\n      must, in that particular situation, depend upon those two circumstances.\\r\\n    ', '\\r\\n      The abundance or scantiness of this supply, too, seems to depend more upon\\r\\n      the former of those two circumstances than upon the latter. Among the\\r\\n      savage nations of hunters and fishers, every individual who is able to\\r\\n      work is more or less employed in useful labour, and endeavours to provide,\\r\\n      as well as he can, the necessaries and conveniencies of life, for himself,\\r\\n      and such of his family or tribe as are either too old, or too young, or\\r\\n      too infirm, to go a-hunting and fishing. Such nations, however, are so\\r\\n      miserably poor, that, from mere want, they are frequently reduced, or at\\r\\n      least think themselves reduced, to the necessity sometimes of directly\\r\\n      destroying, and sometimes of abandoning their infants, their old people,\\r\\n      and those afflicted with lingering diseases, to perish with hunger, or to\\r\\n      be devoured by wild beasts. Among civilized and thriving nations, on the\\r\\n      contrary, though a great number of people do not labour at all, many of\\r\\n      whom consume the produce of ten times, frequently of a hundred times, more\\r\\n      labour than the greater part of those who work; yet the produce of the\\r\\n      whole labour of the society is so great, that all are often abundantly\\r\\n      supplied; and a workman, even of the lowest and poorest order, if he is\\r\\n      frugal and industrious, may enjoy a greater share of the necessaries and\\r\\n      conveniencies of life than it is possible for any savage to acquire.\\r\\n    ', '\\r\\n      The causes of this improvement in the productive powers of labour, and the\\r\\n      order according to which its produce is naturally distributed among the\\r\\n      different ranks and conditions of men in the society, make the subject of\\r\\n      the first book of this Inquiry.\\r\\n    ']\n"
     ]
    }
   ],
   "source": [
    "wealth_of_nation = InquiryNatureCauseWealth()\n",
    "print(wealth_of_nation.get_text()[1:5])"
   ]
  },
  {
   "cell_type": "code",
   "execution_count": 46,
   "metadata": {},
   "outputs": [],
   "source": [
    "class PrinciplePoliticalEconomyTaxation:\n",
    "    def __init__(self):\n",
    "        self.title = \"On The Principles of Political Economy, and Taxation\"\n",
    "        self.author = \"David Ricardo\"\n",
    "        self.year = 1817\n",
    "    def get_text(self, url = \"https://www.gutenberg.org/files/33310/33310-h/33310-h.htm\"):\n",
    "        get_url = requests.get(url).text\n",
    "        soup = BeautifulSoup(get_url, \"html.parser\")\n",
    "        raw_text = [paragraph.text for paragraph in soup.find_all(\"p\")]\n",
    "        return raw_text"
   ]
  },
  {
   "cell_type": "code",
   "execution_count": 48,
   "metadata": {},
   "outputs": [],
   "source": [
    "political_economy = PrinciplePoliticalEconomyTaxation()\n",
    "print(political_economy.get_text()[1:20])"
   ]
  },
  {
   "cell_type": "code",
   "execution_count": 54,
   "metadata": {},
   "outputs": [],
   "source": [
    "class ConditionWorkingClassEngland:\n",
    "    def __init__(self):\n",
    "        self.title = \"The Condition of the Working-Class in England in 1844\"\n",
    "        self.author = \"Frederick Engels\"\n",
    "        self.year = 1845\n",
    "    def get_text(self, url = \"https://www.gutenberg.org/files/17306/17306-h/17306-h.htm\"):\n",
    "        get_url = requests.get(url).text\n",
    "        soup = BeautifulSoup(get_url, \"html.parser\")\n",
    "        raw_text = [paragraph.text for paragraph in soup.find_all(\"p\")]\n",
    "        return raw_text\n"
   ]
  },
  {
   "cell_type": "code",
   "execution_count": 57,
   "metadata": {},
   "outputs": [
    {
     "name": "stdout",
     "output_type": "stream",
     "text": [
      "['Transcribed from the January 1943 George Allen & Unwin reprint\\nof the March 1892 edition by David Price, email ccx074@coventry.ac.uk', 'by\\nFREDERICK ENGELS', 'Translated by Florence Kelley Wischnewetzky', 'London']\n"
     ]
    }
   ],
   "source": [
    "condition_working = ConditionWorkingClassEngland()\n",
    "print(condition_working.get_text()[1:5])"
   ]
  },
  {
   "cell_type": "code",
   "execution_count": 58,
   "metadata": {},
   "outputs": [],
   "source": [
    "class GeneralTheroyEmployment:\n",
    "    def __init__(self):\n",
    "        self.title = \"The General Theory of Employment, Interest, and Money\"\n",
    "        self.author = \"John Maynard Keynes\"\n",
    "        self.year = 1845\n",
    "    def get_text(self, url = \"http://gutenberg.net.au/ebooks03/0300071h/printall.html\"):\n",
    "        get_url = requests.get(url).text\n",
    "        soup = BeautifulSoup(get_url, \"html.parser\")\n",
    "        raw_text = [paragraph.text for paragraph in soup.find_all(\"p\")]\n",
    "        return raw_text"
   ]
  },
  {
   "cell_type": "code",
   "execution_count": 59,
   "metadata": {},
   "outputs": [
    {
     "name": "stdout",
     "output_type": "stream",
     "text": [
      "[\"This book is chiefly addressed to my fellow economists. I hope\\r\\nthat it will be intelligible to others. But its main purpose is\\r\\nto deal with difficult questions of theory, and only in the\\r\\nsecond place with the applications of this theory to practice.\\r\\nFor if orthodox economics is at fault, the error is to be found\\r\\nnot in the superstructure, which has been erected with great care\\r\\nfor logical consistency, but in a lack of clearness and of\\r\\ngenerality in the pre misses. Thus I cannot achieve my object of\\r\\npersuading economists to re-examine critically certain of their\\r\\nbasic assumptions except by a highly abstract argument and also\\r\\nby much controversy. I wish there could have been less of the\\r\\nlatter. But I have thought it important, not only to explain my\\r\\nown point of view, but also to show in what respects it departs\\r\\nfrom the prevailing theory. Those, who are strongly wedded to\\r\\nwhat I shall call 'the classical theory', will fluctuate, I\\r\\nexpect, between a belief that I am quite wrong and a belief that\\r\\nI am saying nothing new. It is for others to determine if either\\r\\nof these or the third alternative is right. My controversial\\r\\npassages are aimed at providing some material for an answer; and\\r\\nI must ask forgiveness If, in the pursuit of sharp distinctions,\\r\\nmy controversy is itself too keen. I myself held with conviction\\r\\nfor many years the theories which I now attack, and I am not, I\\r\\nthink, ignorant of their strong points. \", 'The matters at issue are of an importance which cannot be\\r\\nexaggerated. But, if my explanations are right, it is my fellow\\r\\neconomists, not the general public, whom I must first convince.\\r\\nAt this stage of the argument the general public, though welcome\\r\\nat the debate, are only eavesdroppers at an attempt by an\\r\\neconomist to bring to an issue the deep divergences of opinion\\r\\nbetween fellow economists which have for the time being almost\\r\\ndestroyed the practical influence of economic theory, and will,\\r\\nuntil they are resolved, continue to do so. ', \"The relation between this book and my Treatise on Money\\r\\n[JMK vols. v and vi], which I published five years ago,\\r\\nis probably clearer to myself than it will be to others; and what\\r\\nin my own mind is a natural evolution in a line of thought which\\r\\nI have been pursuing for several years, may sometimes strike the\\r\\nreader as a confusing change of view. This difficulty is not made\\r\\nless by certain changes in terminology which I have felt\\r\\ncompelled to make. These changes of language I have pointed out\\r\\nin the course of the following pages; but the general\\r\\nrelationship between the two books can be expressed briefly as\\r\\nfollows. When I began to write my Treatise on Money I was\\r\\nstill moving along the traditional lines of regarding the\\r\\ninfluence of money as something so to speak separate from the\\r\\ngeneral theory of supply and demand. When I finished it, I had\\r\\nmade some progress towards pushing monetary theory back to\\r\\nbecoming a theory of output as a whole. But my lack of\\r\\nemancipation from preconceived ideas showed itself in what now\\r\\nseems to me to be the outstanding fault of the theoretical parts\\r\\nof that work (namely, Books III and IV), that I failed to deal\\r\\nthoroughly with the effects of changes in the level of\\r\\noutput. My so-called 'fundamental equations were an instantaneous\\r\\npicture taken on the assumption of a given output. They attempted\\r\\nto show how, assuming the given output, forces could develop\\r\\nwhich involved a profit-disequilibrium, and thus required a\\r\\nchange in the level of output. But the dynamic development, as\\r\\ndistinct from the instantaneous picture, was left incomplete and\\r\\nextremely confused. This book, on the other hand, has evolved\\r\\ninto what is primarily a study of the forces which determine\\r\\nchanges in the scale of output and employment as a whole; and,\\r\\nwhilst it is found that money enters into the economic scheme in\\r\\nan essential and peculiar manner, technical monetary detail falls\\r\\ninto the background. A monetary economy, we shall find, is\\r\\nessentially one in which changing views about the future are\\r\\ncapable of influencing the quantity of employment and not merely\\r\\nits direction. But our method of analysing the economic behaviour\\r\\nof the present under the influence of changing ideas about the\\r\\nfuture is one which depends on the interaction of supply and\\r\\ndemand, and is in this way linked up with our fundamental theory of value. We\\r\\nare thus led to a more general theory, which includes the\\r\\nclassical theory with which we are familiar, as a special case. \", \"The writer of a book such as this, treading along unfamiliar\\r\\npaths, is extremely dependent on criticism and conversation if he\\r\\nis to avoid an undue proportion of mistakes. It is astonishing\\r\\nwhat foolish things one can temporarily believe if one thinks too\\r\\nlong alone, particularly in economics (along with the other moral\\r\\nsciences), where it is often impossible to bring one's ideas to a\\r\\nconclusive test either formal or experimental. In this book, even\\r\\nmore perhaps than in writing my Treatise on Money, I have\\r\\ndepended on the constant advice and constructive criticism of Mr\\r\\nR.F. Kahn. There is a great deal in this book which would not\\r\\nhave taken the shape it has except at his suggestion. I have also\\r\\nhad much help from Mrs Joan Robinson, Mr R.G. Hawtrey and Mr R.F.\\r\\nHarrod, who have read the whole of the proof-sheets. The index\\r\\nhas been compiled by Mr D. M. Bensusan-Butt of King's College,\\r\\nCambridge. \"]\n"
     ]
    }
   ],
   "source": [
    "general_theory = GeneralTheroyEmployment()\n",
    "print(general_theory.get_text()[1:5])"
   ]
  },
  {
   "cell_type": "code",
   "execution_count": 60,
   "metadata": {},
   "outputs": [],
   "source": [
    "class PrinciplesOfEconomics:\n",
    "    def __init__(self):\n",
    "        self.title = \"Principles of Economics\"\n",
    "        self.author = \"Alfred Marshall\"\n",
    "        self.year = 1890\n",
    "    def get_text(self, url = \"https://oll.libertyfund.org/titles/marshall-principles-of-economics-8th-ed\"):\n",
    "        get_url = requests.get(url).text\n",
    "        soup = BeautifulSoup(get_url, \"html.parser\")\n",
    "        raw_text = [paragraph.text for paragraph in soup.find_all(\"p\")]\n",
    "        return raw_text"
   ]
  },
  {
   "cell_type": "code",
   "execution_count": 61,
   "metadata": {},
   "outputs": [
    {
     "name": "stdout",
     "output_type": "stream",
     "text": [
      "['Full site\\nTitle names\\nAuthor names\\nEssays\\nGroups ', 'Advanced Search', 'Alfred Marshall, Principles of Economics (London: Macmillan and Co. 8th ed. 1920).\\n https://oll.libertyfund.org/titles/1676', 'This is the 8th edition of what is regarded to be the first “modern” economics textbook, leading in various editions from the 19th into the 20th century. The final 8th edition was Marshall’s most-used and most-cited.']\n"
     ]
    }
   ],
   "source": [
    "principles_economics = PrinciplesOfEconomics()\n",
    "print(principles_economics.get_text()[1:5])"
   ]
  },
  {
   "cell_type": "code",
   "execution_count": 62,
   "metadata": {},
   "outputs": [],
   "source": [
    "class CritiquePoliticalEconomy:\n",
    "    def __init__(self):\n",
    "        self.title = \"Capital: A Critique of Political Economy. Volume I: The Process of Capitalist Production\"\n",
    "        self.author = \"Karl Marx\"\n",
    "        self.year = 1867\n",
    "    def get_text(self, url = \"https://oll.libertyfund.org/titles/marx-capital-a-critique-of-political-economy-volume-i-the-process-of-capitalist-production\"):\n",
    "        get_url = requests.get(url).text\n",
    "        soup = BeautifulSoup(get_url, \"html.parser\")\n",
    "        raw_text = [paragraph.text for paragraph in soup.find_all(\"p\")]\n",
    "        return raw_text"
   ]
  },
  {
   "cell_type": "code",
   "execution_count": 63,
   "metadata": {},
   "outputs": [
    {
     "name": "stdout",
     "output_type": "stream",
     "text": [
      "['Full site\\nTitle names\\nAuthor names\\nEssays\\nGroups ', 'Advanced Search', 'Karl Marx, Capital: A Critique of Political Economy. Volume I: The Process of Capitalist Production, by Karl Marx. Trans. from the 3rd German edition, by Samuel Moore and Edward Aveling, ed. Frederick Engels. Revised and amplified according to the 4th German ed. by Ernest Untermann (Chicago: Charles H. Kerr and Co., 1909).\\n https://oll.libertyfund.org/titles/965', 'Vol. I of the major work of criticism of the capitalist system by one of the leading theorists of 19th century socialism. Only vol. 1 appeared in Marx’s lifetime; the other two vols. were published postumously by Engels. Marx prided himself on having discovered the “laws” which governed the operation of the capitalist system, laws which would inevitably lead to its collapse. A German language version of Das Kapital is also available in HTML and facsimile PDF.']\n"
     ]
    }
   ],
   "source": [
    "critique_political_economy = CritiquePoliticalEconomy()\n",
    "print(critique_political_economy.get_text()[1:5])"
   ]
  },
  {
   "cell_type": "code",
   "execution_count": 64,
   "metadata": {},
   "outputs": [],
   "source": [
    "class HumanAction:\n",
    "    def __init__(self):\n",
    "        self.title = \"Human Action: A Treatise on Economics, vol. 1 (LF ed.)\"\n",
    "        self.author = \"Ludwig von Mises\"\n",
    "        self.year = 1996\n",
    "    def get_text(self, url = \"https://oll.libertyfund.org/titles/mises-human-action-a-treatise-on-economics-vol-1-lf-ed\"):\n",
    "        get_url = requests.get(url).text\n",
    "        soup = BeautifulSoup(get_url, \"html.parser\")\n",
    "        raw_text = [paragraph.text for paragraph in soup.find_all(\"p\")]\n",
    "        return raw_text"
   ]
  },
  {
   "cell_type": "code",
   "execution_count": 65,
   "metadata": {},
   "outputs": [
    {
     "data": {
      "text/plain": [
       "['Full site\\nTitle names\\nAuthor names\\nEssays\\nGroups ',\n",
       " 'Advanced Search',\n",
       " 'Purchase now from Liberty Fund',\n",
       " 'Ludwig von Mises, Human Action: A Treatise on Economics, in 4 vols., ed. Bettina Bien Greaves (Indianapolis: Liberty Fund, 2007). Vol. 1.\\n https://oll.libertyfund.org/titles/1893']"
      ]
     },
     "execution_count": 65,
     "metadata": {},
     "output_type": "execute_result"
    }
   ],
   "source": [
    "human_action = HumanAction()\n",
    "human_action.get_text()[1:5]"
   ]
  },
  {
   "cell_type": "code",
   "execution_count": null,
   "metadata": {},
   "outputs": [],
   "source": []
  }
 ],
 "metadata": {
  "kernelspec": {
   "display_name": "science",
   "language": "python",
   "name": "science"
  },
  "language_info": {
   "codemirror_mode": {
    "name": "ipython",
    "version": 3
   },
   "file_extension": ".py",
   "mimetype": "text/x-python",
   "name": "python",
   "nbconvert_exporter": "python",
   "pygments_lexer": "ipython3",
   "version": "3.6.9"
  }
 },
 "nbformat": 4,
 "nbformat_minor": 4
}
