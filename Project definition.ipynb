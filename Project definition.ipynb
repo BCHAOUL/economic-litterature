{
 "cells": [
  {
   "cell_type": "markdown",
   "metadata": {},
   "source": [
    "I started this project because I think it might be interesting to explore early economics writings. The idea is to understand the logic that was dominant in early economic writings. On of the goals of this project is to compare the ideas of the founders of modern economics as a discipline. \n",
    "\n",
    "What is exciting for me is to use Python, webscraping and NLP techniques to properly conduct a project. \n",
    "\n",
    "Here's a list of what I would like to touch in the project :\n",
    "- Making graphics (e.g. wordcloud)\n",
    "- Using deep learning NLP techniques\n",
    "- Compare early writers to contemporeanous writers"
   ]
  },
  {
   "cell_type": "code",
   "execution_count": 4,
   "metadata": {},
   "outputs": [],
   "source": [
    "# Loading the packages\n",
    "import requests\n",
    "from bs4 import BeautifulSoup"
   ]
  },
  {
   "cell_type": "markdown",
   "metadata": {},
   "source": [
    "# Querying the texts\n",
    "\n",
    "All the texts I am going to use come from the [Project Gutenberg website](https://www.gutenberg.org/wiki/Main_Page). Project Gutenberg was founded by Michael Hart in 1971 with the goal of providing free electronic books and ebooks. It contains over 60,000 ebooks that are available in many format including plain text, HTML or ebook. \n",
    "\n",
    "For this project, I am interested in analysing early economic writings. For that purpose I am going to query the following books : \n",
    "- [An Inquiry into the Nature and Causes of the Wealth of Nations by Adam Smith](https://www.gutenberg.org/ebooks/3300)\n",
    "- [On The Principles of Political Economy, and Taxation by David Ricardo](https://www.gutenberg.org/ebooks/33310)\n",
    "- [The Condition of the Working-Class in England in 1844](https://www.gutenberg.org/ebooks/17306)\n",
    "- [Principles of Political Economy by John Stuart Mill](https://www.gutenberg.org/ebooks/3300)\n",
    "- [The Economic Consequences of the Peace by John Maynard Keynes](https://www.gutenberg.org/ebooks/15776)  \n",
    "\n",
    "The following books weren't available on the Project Gutenberg site,   \n",
    "so I found them on the Online Library of Liberty website :\n",
    "- [Alfred Marshall, Principles of Economics (8th ed.) [1890]](https://oll.libertyfund.org/titles/marshall-principles-of-economics-8th-ed)\n",
    "- [Karl Marx Capital A Critique of Political Economy Volume I Book One: The Process of Production of Capital](https://oll.libertyfund.org/titles/marx-capital-a-critique-of-political-economy-volume-i-the-process-of-capitalist-production)\n",
    "- [Ludwig von Mises, Human Action: A Treatise on Economics, vol. 1 (LF ed.) [1996]] (https://oll.libertyfund.org/titles/mises-human-action-a-treatise-on-economics-vol-1-lf-ed)"
   ]
  },
  {
   "cell_type": "markdown",
   "metadata": {},
   "source": [
    "Thankfully all these books are hosted online, so everyone can can read them for free. Also there are in HTML format, meaning that we can extract the text inside HTML tags and CSS. For each book, I am going to create a Python class to represent how we can use them later in the project."
   ]
  },
  {
   "cell_type": "code",
   "execution_count": null,
   "metadata": {},
   "outputs": [],
   "source": [
    "class InquiryNatureCauseWealth:\n",
    "    def __init__(self):\n",
    "        title = \"An Inquiry into the Nature and Causes of the Wealth of Nations\"\n",
    "        author = \"Adam Smith\"\n",
    "        year = 1776\n",
    "    def get_text(site = \"https://www.gutenberg.org/ebooks/3300\"):\n",
    "        "
   ]
  }
 ],
 "metadata": {
  "kernelspec": {
   "display_name": "science",
   "language": "python",
   "name": "science"
  },
  "language_info": {
   "codemirror_mode": {
    "name": "ipython",
    "version": 3
   },
   "file_extension": ".py",
   "mimetype": "text/x-python",
   "name": "python",
   "nbconvert_exporter": "python",
   "pygments_lexer": "ipython3",
   "version": "3.6.9"
  }
 },
 "nbformat": 4,
 "nbformat_minor": 2
}
